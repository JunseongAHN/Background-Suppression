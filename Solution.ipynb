{
 "cells": [
  {
   "cell_type": "code",
   "execution_count": 3,
   "metadata": {},
   "outputs": [],
   "source": [
    "from __future__ import print_function\n",
    "import cv2 as cv\n",
    "import argparse\n",
    "import time\n",
    "import numpy as np\n",
    "from numpy.fft import fft2, ifft2\n"
   ]
  },
  {
   "cell_type": "markdown",
   "metadata": {},
   "source": [
    "# Note\n",
    "## This modification is working for a non-moving camera too. "
   ]
  },
  {
   "cell_type": "code",
   "execution_count": 14,
   "metadata": {},
   "outputs": [],
   "source": [
    "\n",
    "smear = 2\n",
    "threshold = smear*smear\n",
    "# parser = argparse.ArgumentParser(description='This program shows how to use background subtraction methods provided by \\\n",
    "#                                               OpenCV. You can process both videos and images.')\n",
    "# parser.add_argument('--input', type=str, help='Path to a video or a sequence of image.', default='people_pavement_sea2.mov')\n",
    "# parser.add_argument('--algo', type=str, help='Background subtraction method (KNN, MOG2).', default='KNN')\n",
    "\n",
    "####\n",
    "#Since it is jupypter notebook we make a class that has the attribute\n",
    "####\n",
    "class Args:\n",
    "    def __init__(self):\n",
    "        self.algo = 'KNN'\n",
    "        self.input = 'people_pavement_sea2.mov'\n",
    "args = Args()\n",
    "\n",
    "\n",
    "\n",
    "##############################################################\n",
    "def bkgSub(inFrame,show=False) :\n",
    "    frame = inFrame\n",
    "    #update the background model\n",
    "    fgMask = backSub.apply(frame)\n",
    "    original_size = frame.shape\n",
    "    \n",
    "#     ###################################################\n",
    "#     # Operation 1\n",
    "#     ###################################################\n",
    "#     kernel = np.ones((4,4))\n",
    "#     fgMask = cv.erode(fgMask, kernel)\n",
    "    \n",
    "#     ###################################################\n",
    "#     # Operation 2\n",
    "#     ###################################################\n",
    "#     kernel = np.array([[0,0,3,0,0],\n",
    "#                         [0,0,2,0,0],\n",
    "#                         [1,2,4,2,1],\n",
    "#                         [0,0,3,0,0],\n",
    "#                         [0,0,3,0,0]]).astype(np.uint8)\n",
    "#     fgMask = cv.erode(fgMask, kernel)\n",
    "\n",
    "    # Transfer mask to numpy\n",
    "    iMask = np.array(fgMask.reshape((im_height, im_width)).astype(np.uint8))\n",
    "    \n",
    "    # Clean up mask\n",
    "    iMask = (iMask>127).astype(np.uint8)\n",
    "\n",
    "#     ###################################################\n",
    "#     # Operation 3\n",
    "#     ###################################################\n",
    "#     kernel = np.ones((2,2))\n",
    "#     iMask = cv.dilate(iMask, kernel)\n",
    "#     ###################################################\n",
    "#     # Operation 4\n",
    "#     ###################################################\n",
    "#     iMask = cv.morphologyEx(iMask, cv.MORPH_CLOSE, kernel)\n",
    "\n",
    "    # # Eliminate isolated pixels\n",
    "    oMask = iMask\n",
    "    for k in range(1,smear) :\n",
    "        oMask[:,:im_width-k-1] += iMask[:,k:im_width-1]\n",
    "        oMask[:,k:im_width-1] += iMask[:,:im_width-k-1]\n",
    "    iMask = oMask\n",
    "    for k in range(1,smear) :\n",
    "        oMask[:im_height-k-1,:] += iMask[k:im_height-1,:]\n",
    "        oMask[k:im_height-1,:] += iMask[:im_height-k-1,:]\n",
    "    oMask = oMask>threshold\n",
    "    iMask = oMask\n",
    "    for k in range(smear) :\n",
    "        oMask[:,:im_width-k-1] |= iMask[:,k:im_width-1]\n",
    "        oMask[:,k:im_height-1] |= iMask[:,:im_height-k-1]\n",
    "    iMask = oMask\n",
    "    for k in range(smear) :\n",
    "        oMask[:im_height-k-1,:] |= iMask[k:im_height-1,:]\n",
    "        oMask[k:im_height-1,:] |= iMask[:im_height-k-1,:]\n",
    "    oMask = 255 * oMask.astype(np.uint8)\n",
    "\n",
    "    #show the current frame and the fg masks\n",
    "    if (show) :\n",
    "        cv.imshow('FG Mask', fgMask)\n",
    "        cv.imshow('Contours', oMask)\n",
    "    frame = cv.bitwise_and(frame,frame,mask = oMask)\n",
    "    return frame\n"
   ]
  },
  {
   "cell_type": "code",
   "execution_count": 15,
   "metadata": {},
   "outputs": [],
   "source": [
    "\n",
    "##############################################################\n",
    "#create Background Subtractor objects\n",
    "if args.algo == 'MOG2':\n",
    "    backSub = cv.createBackgroundSubtractorMOG2()\n",
    "else:\n",
    "    backSub = cv.createBackgroundSubtractorKNN()\n",
    "\n",
    "# Open input\n",
    "capture = cv.VideoCapture(cv.samples.findFileOrKeep(args.input))\n",
    "#capture = cv.VideoCapture(1)\n",
    "if not capture.isOpened:\n",
    "    print('Unable to open: ' + args.input)\n",
    "    exit(0)\n",
    "# Open output\n",
    "video_output = 'BkgOut_original.mp4'\n",
    "fourcc = cv.VideoWriter_fourcc(*'mp4v')\n",
    "im_height = int(capture.get(cv.CAP_PROP_FRAME_HEIGHT))\n",
    "im_width= int(capture.get(cv.CAP_PROP_FRAME_WIDTH))\n",
    "output_fps = capture.get(cv.CAP_PROP_FPS)\n",
    "out = cv.VideoWriter(video_output, fourcc, output_fps, (im_width, im_height))\n",
    "\n",
    "\n",
    "while True:\n",
    "    ret, frame = capture.read()\n",
    "    if frame is None:\n",
    "        break\n",
    "\n",
    "    #background suppression\n",
    "    outFrame = bkgSub(frame,True)\n",
    "\n",
    "    #get the frame number and write it on the current frame\n",
    "    cv.rectangle(frame, (10, 2), (100,20), (255,255,255), -1)\n",
    "    cv.putText(frame, str(capture.get(cv.CAP_PROP_POS_FRAMES)), (15, 15),\n",
    "               cv.FONT_HERSHEY_SIMPLEX, 0.5 , (0,0,0))\n",
    "    #show\n",
    "    cv.imshow('Frame', frame)\n",
    "    cv.imshow('Masked', outFrame)\n",
    "    out.write(outFrame)\n",
    "\n",
    "    keyboard = cv.waitKey(1)\n",
    "    if keyboard == 'q' or keyboard == 27:\n",
    "        break\n",
    "out.release()\n",
    "capture.release()\n",
    "cv.destroyAllWindows()\n"
   ]
  },
  {
   "cell_type": "markdown",
   "metadata": {},
   "source": [
    "# Solution\n",
    "## Original\n",
    "<video controls src=\"BkgOut.mp4\" />\n"
   ]
  },
  {
   "cell_type": "markdown",
   "metadata": {},
   "source": [
    "## Modified\n",
    "<video controls src=\"BkgOut.mp4\" />\n"
   ]
  },
  {
   "cell_type": "markdown",
   "metadata": {},
   "source": [
    "\n",
    "### Note : If the video doesn't work in jupyter notebook, please watch via file explore."
   ]
  },
  {
   "cell_type": "markdown",
   "metadata": {},
   "source": [
    "# Explatation\n",
    "There are four morphological operations. In this cell, I am going to explain the meaning of each operations:\n",
    "\n",
    "<ol>\n",
    "<ul>1. EROSION1</ul>\n",
    "    \n",
    "    This operation is for removing the noise of the mask; it is the similar operation to blur (denoise) for the original photo\n",
    "<ul>2. EROSION2</ul>\n",
    "    \n",
    "    This operation is for removing line like a structure; It is one of powerful characteristics that morpholotical operations have. I defined the kernel for removing line like structure-the safety bar in the video(However it detects cross line as you can see in the solution) \n",
    "<ul>3. Dilation</ul>\n",
    "\n",
    "    This operation is conducted after we threshhold the fgMask. Since we have done a lot of erosion, we need to do dilation to make foreground bigger (inverse operation).\n",
    "    \n",
    "<ul>3. MORPH_CLOSE</ul>\n",
    "\n",
    "    This operation is morpological operation defined as Dilation followed by Erosion. It is useful in closing small holes inside the foreground objects, or small black points on the object.\n",
    "\n",
    "</ol>"
   ]
  },
  {
   "cell_type": "markdown",
   "metadata": {},
   "source": [
    "# limitation\n",
    "\n",
    "The foreground is not simple region (there is a hole surrounded by foreground) Since the constraints of the problem was a fast fix, I didn't work on connecting foreground. Note that there are a lot of algorihtms to connect regions (even open-cv has one) "
   ]
  },
  {
   "cell_type": "markdown",
   "metadata": {},
   "source": [
    "# Reference\n",
    "\n",
    "<a href=\"https://docs.opencv.org/trunk/d9/d61/tutorial_py_morphological_ops.html\">Open-cv Morphology-Operations</a>"
   ]
  },
  {
   "cell_type": "markdown",
   "metadata": {},
   "source": []
  },
  {
   "cell_type": "code",
   "execution_count": null,
   "metadata": {},
   "outputs": [],
   "source": []
  }
 ],
 "metadata": {
  "kernelspec": {
   "display_name": "Python 3",
   "language": "python",
   "name": "python3"
  },
  "language_info": {
   "codemirror_mode": {
    "name": "ipython",
    "version": 3
   },
   "file_extension": ".py",
   "mimetype": "text/x-python",
   "name": "python",
   "nbconvert_exporter": "python",
   "pygments_lexer": "ipython3",
   "version": "3.6.8"
  }
 },
 "nbformat": 4,
 "nbformat_minor": 4
}
