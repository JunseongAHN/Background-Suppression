{
 "cells": [
  {
   "cell_type": "markdown",
   "metadata": {},
   "source": [
    "### Author\n",
    "Junseong Ahn\n",
    "### Laboratory \n",
    " Perception, Control, Cognition Lab : Brigham Young University"
   ]
  },
  {
   "cell_type": "code",
   "execution_count": 1,
   "metadata": {},
   "outputs": [],
   "source": [
    "import cv2\n",
    "import numpy as np\n",
    "import os\n",
    "import matplotlib.pyplot as plt\n",
    "\n",
    "from skimage.morphology import disk\n",
    "from skimage import data\n",
    "from skimage.filters import rank\n",
    "\n",
    "from scipy import ndimage as ndi\n",
    "from scipy import signal\n",
    "from scipy import misc\n",
    "import time"
   ]
  },
  {
   "cell_type": "markdown",
   "metadata": {},
   "source": [
    "# Set up the path for this demo"
   ]
  },
  {
   "cell_type": "code",
   "execution_count": 2,
   "metadata": {},
   "outputs": [],
   "source": [
    "#video path\n",
    "video_path = 'IMG_4296.MOV'\n",
    "#basename for images from video  \n",
    "img_name = 'image'\n",
    "#path of saved images  \n",
    "img_path = 'images_resized'\n",
    "#frame rate for saving video \n",
    "frameRate = 0.1\n"
   ]
  },
  {
   "cell_type": "code",
   "execution_count": 65,
   "metadata": {},
   "outputs": [
    {
     "data": {
      "text/plain": [
       "array([[0, 1, 0],\n",
       "       [1, 1, 1],\n",
       "       [0, 1, 0]], dtype=uint8)"
      ]
     },
     "execution_count": 65,
     "metadata": {},
     "output_type": "execute_result"
    }
   ],
   "source": [
    "save_img_path = os.path.join(img_path, img_name)"
   ]
  },
  {
   "cell_type": "markdown",
   "metadata": {},
   "source": [
    "# Background-Subtraction with moving scene"
   ]
  },
  {
   "cell_type": "markdown",
   "metadata": {},
   "source": [
    "Background Subtraction is usually used for a stationary scene, however, with an assumption, the background is plain, we can use the technique for a moving scene video. This is my work of background subtraction algrotihm for a moving scene. Note that this jupter notebook is analyzing just one of videos (IMG_4296.MOV) since we can use normal background suppression techniques for the second video(orcalab-rubbing-beach-underwater.mp4).\n",
    "\n",
    "Also, Note that this notebook is the only half of the algorithm procedures in the presentation."
   ]
  },
  {
   "cell_type": "code",
   "execution_count": 4,
   "metadata": {},
   "outputs": [],
   "source": [
    "def video2Image(video_path, save_path, frameRate):\n",
    "    \"\"\"\n",
    "    change video to images and save to save_path with frameRate.\n",
    "    Param:\n",
    "        video_path (str) : path of video\n",
    "        save_path : save path of image\n",
    "        frameRate : the frame of video to save\n",
    "    \"\"\"\n",
    "    vidcap = cv2.VideoCapture(name_video)\n",
    "    def getFrame(sec):\n",
    "        vidcap.set(cv2.CAP_PROP_POS_MSEC,sec*1000)\n",
    "        hasFrames,image = vidcap.read()\n",
    "        if hasFrames:\n",
    "            image = img = cv2.resize(image, (int(image.shape[1]), int(image.shape[0])))\n",
    "            cv2.imwrite(save_path+str(count)+\".jpg\", image)     # save frame as JPG file\n",
    "        return hasFrames\n",
    "    \n",
    "    sec =0\n",
    "    count=1\n",
    "    success = getFrame(sec)\n",
    "    start = time.time()\n",
    "    while success:\n",
    "        count = count + 1\n",
    "        sec = sec + frameRate\n",
    "        sec = round(sec, 2)\n",
    "        success = getFrame(sec)\n"
   ]
  },
  {
   "cell_type": "code",
   "execution_count": 5,
   "metadata": {},
   "outputs": [],
   "source": [
    "def getImages(img_name, img_path, n_img):\n",
    "    \"\"\"\n",
    "    Get color images(.jpg) from img_path. \n",
    "    Note that it is the order of the images should be next to img_name.(e.g tree13)\n",
    "    \"\"\"\n",
    "    image_names = [img_name+str(i)+\".jpg\" for i in range(n_img)]\n",
    "    imgs = [cv2.imread(os.path.join(img_path,image_names[i]), cv2.IMREAD_GRAYSCALE) for i in range(1,len(image_names))]\n",
    "    imgs_color = [cv2.imread(os.path.join(img_path,image_names[i]), cv2.COLOR_BGR2RGB) for i in range(1,len(image_names))]\n",
    "\n",
    "    return imgs, imgs_color"
   ]
  },
  {
   "cell_type": "code",
   "execution_count": 64,
   "metadata": {},
   "outputs": [
    {
     "data": {
      "text/plain": [
       "(540, 960)"
      ]
     },
     "execution_count": 64,
     "metadata": {},
     "output_type": "execute_result"
    }
   ],
   "source": [
    "540, 960"
   ]
  },
  {
   "cell_type": "code",
   "execution_count": 77,
   "metadata": {},
   "outputs": [
    {
     "data": {
      "text/plain": [
       "array([[ 0,  0,  1, ...,  1,  1,  1],\n",
       "       [ 1,  1,  1, ...,  2,  2,  1],\n",
       "       [ 1,  1,  1, ...,  2,  2,  1],\n",
       "       ...,\n",
       "       [12, 14, 16, ...,  7,  6,  6],\n",
       "       [12, 13, 14, ...,  7,  6,  6],\n",
       "       [ 9, 10, 11, ...,  7,  6,  6]], dtype=uint8)"
      ]
     },
     "execution_count": 77,
     "metadata": {},
     "output_type": "execute_result"
    }
   ],
   "source": []
  },
  {
   "cell_type": "code",
   "execution_count": 88,
   "metadata": {},
   "outputs": [
    {
     "data": {
      "text/plain": [
       "array([[0.        , 0.        , 0.        , ..., 0.04946026, 0.        ,\n",
       "        0.        ],\n",
       "       [0.        , 0.        , 0.        , ..., 0.        , 0.04946026,\n",
       "        0.04946026],\n",
       "       [0.        , 0.        , 0.        , ..., 0.        , 0.        ,\n",
       "        0.04946026],\n",
       "       ...,\n",
       "       [0.64677677, 0.57111784, 0.49460256, ..., 0.04946026, 0.04946026,\n",
       "        0.04946026],\n",
       "       [0.64677677, 0.5944383 , 0.5944383 , ..., 0.04946026, 0.04946026,\n",
       "        0.04946026],\n",
       "       [0.4451423 , 0.43619846, 0.5944383 , ..., 0.04946026, 0.04946026,\n",
       "        0.04946026]])"
      ]
     },
     "execution_count": 88,
     "metadata": {},
     "output_type": "execute_result"
    }
   ],
   "source": [
    "imgs, imgs_color = getImages(img_name, img_path, 250)\n"
   ]
  },
  {
   "cell_type": "code",
   "execution_count": 89,
   "metadata": {},
   "outputs": [
    {
     "data": {
      "text/plain": [
       "array([[0.        , 0.        , 0.        , ..., 0.04946026, 0.        ,\n",
       "        0.        ],\n",
       "       [0.        , 0.        , 0.        , ..., 0.        , 0.04946026,\n",
       "        0.04946026],\n",
       "       [0.        , 0.        , 0.        , ..., 0.        , 0.        ,\n",
       "        0.04946026],\n",
       "       ...,\n",
       "       [0.64677677, 0.57111784, 0.49460256, ..., 0.04946026, 0.04946026,\n",
       "        0.04946026],\n",
       "       [0.64677677, 0.5944383 , 0.5944383 , ..., 0.04946026, 0.04946026,\n",
       "        0.04946026],\n",
       "       [0.4451423 , 0.43619846, 0.5944383 , ..., 0.04946026, 0.04946026,\n",
       "        0.04946026]])"
      ]
     },
     "execution_count": 89,
     "metadata": {},
     "output_type": "execute_result"
    }
   ],
   "source": []
  },
  {
   "cell_type": "code",
   "execution_count": 92,
   "metadata": {},
   "outputs": [
    {
     "data": {
      "text/plain": [
       "array([[0.        , 0.        , 0.        , ..., 0.00038327, 0.        ,\n",
       "        0.        ],\n",
       "       [0.        , 0.        , 0.        , ..., 0.        , 0.00038327,\n",
       "        0.00038327],\n",
       "       [0.        , 0.        , 0.        , ..., 0.        , 0.        ,\n",
       "        0.00038327],\n",
       "       ...,\n",
       "       [0.00501195, 0.00442566, 0.00383273, ..., 0.00038327, 0.00038327,\n",
       "        0.00038327],\n",
       "       [0.00501195, 0.00460637, 0.00460637, ..., 0.00038327, 0.00038327,\n",
       "        0.00038327],\n",
       "       [0.00344946, 0.00338015, 0.00460637, ..., 0.00038327, 0.00038327,\n",
       "        0.00038327]])"
      ]
     },
     "execution_count": 92,
     "metadata": {},
     "output_type": "execute_result"
    }
   ],
   "source": [
    "backgroundsuppression.gradients3d[5] / np.max(backgroundsuppression.gradients3d[5])"
   ]
  },
  {
   "cell_type": "markdown",
   "metadata": {},
   "source": [
    "## Comparsion of gradient methods"
   ]
  },
  {
   "cell_type": "code",
   "execution_count": 172,
   "metadata": {},
   "outputs": [
    {
     "data": {
      "image/png": "[encoded data removed]",
      "text/plain": [
       "<Figure size 432x288 with 1 Axes>"
      ]
     },
     "metadata": {
      "needs_background": "light"
     },
     "output_type": "display_data"
    },
    {
     "data": {
      "image/png": "[encoded data removed]",
      "text/plain": [
       "<Figure size 432x288 with 1 Axes>"
      ]
     },
     "metadata": {
      "needs_background": "light"
     },
     "output_type": "display_data"
    },
    {
     "data": {
      "image/png": "[encoded data removed]",
      "text/plain": [
       "<Figure size 432x288 with 1 Axes>"
      ]
     },
     "metadata": {
      "needs_background": "light"
     },
     "output_type": "display_data"
    }
   ],
   "source": [
    "plt.imshow(np.absolute(next_grad_normal)/np.max(np.absolute(next_grad_normal)) > 0.16, cmap='gray')\n",
    "plt.title(\"The magnitude of a normal Image Gradient\")\n",
    "plt.show()\n",
    "plt.imshow(next_grad_morphological/np.max(next_grad_morphological) > 0.2, cmap='gray')\n",
    "plt.title(\"Morphological Gradient\")\n",
    "plt.show()\n",
    "plt.imshow(backgroundsuppression.gradients3d[5] > 1, cmap='gray')\n",
    "plt.title(\"3D Morphological Gradient\")\n",
    "plt.show()\n",
    "\n"
   ]
  },
  {
   "cell_type": "code",
   "execution_count": 118,
   "metadata": {},
   "outputs": [
    {
     "ename": "NameError",
     "evalue": "name 'asdf' is not defined",
     "output_type": "error",
     "traceback": [
      "\u001b[0;31m---------------------------------------------------------------------------\u001b[0m",
      "\u001b[0;31mNameError\u001b[0m                                 Traceback (most recent call last)",
      "\u001b[0;32m<ipython-input-118-b46e912156e6>\u001b[0m in \u001b[0;36m<module>\u001b[0;34m\u001b[0m\n\u001b[1;32m     13\u001b[0m \u001b[0mnext_grad_normal\u001b[0m \u001b[0;34m=\u001b[0m \u001b[0msignal\u001b[0m\u001b[0;34m.\u001b[0m\u001b[0mconvolve2d\u001b[0m\u001b[0;34m(\u001b[0m\u001b[0mimgs\u001b[0m\u001b[0;34m[\u001b[0m\u001b[0;36m5\u001b[0m\u001b[0;34m]\u001b[0m\u001b[0;34m,\u001b[0m \u001b[0mscharr\u001b[0m\u001b[0;34m,\u001b[0m \u001b[0mboundary\u001b[0m\u001b[0;34m=\u001b[0m\u001b[0;34m'symm'\u001b[0m\u001b[0;34m,\u001b[0m \u001b[0mmode\u001b[0m\u001b[0;34m=\u001b[0m\u001b[0;34m'same'\u001b[0m\u001b[0;34m)\u001b[0m\u001b[0;34m\u001b[0m\u001b[0;34m\u001b[0m\u001b[0m\n\u001b[1;32m     14\u001b[0m \u001b[0mnext_grad_morphological\u001b[0m \u001b[0;34m=\u001b[0m \u001b[0mcv2\u001b[0m\u001b[0;34m.\u001b[0m\u001b[0mmorphologyEx\u001b[0m\u001b[0;34m(\u001b[0m\u001b[0mimgs\u001b[0m\u001b[0;34m[\u001b[0m\u001b[0;36m5\u001b[0m\u001b[0;34m]\u001b[0m\u001b[0;34m,\u001b[0m \u001b[0mcv2\u001b[0m\u001b[0;34m.\u001b[0m\u001b[0mMORPH_GRADIENT\u001b[0m\u001b[0;34m,\u001b[0m \u001b[0mkernel\u001b[0m\u001b[0;34m)\u001b[0m\u001b[0;34m\u001b[0m\u001b[0;34m\u001b[0m\u001b[0m\n\u001b[0;32m---> 15\u001b[0;31m \u001b[0masdf\u001b[0m\u001b[0;34m\u001b[0m\u001b[0;34m\u001b[0m\u001b[0m\n\u001b[0m\u001b[1;32m     16\u001b[0m \u001b[0;32mfor\u001b[0m \u001b[0mi\u001b[0m \u001b[0;32min\u001b[0m \u001b[0mrange\u001b[0m\u001b[0;34m(\u001b[0m\u001b[0;36m1\u001b[0m\u001b[0;34m,\u001b[0m \u001b[0mlen\u001b[0m\u001b[0;34m(\u001b[0m\u001b[0mimgs\u001b[0m\u001b[0;34m)\u001b[0m\u001b[0;34m)\u001b[0m\u001b[0;34m:\u001b[0m\u001b[0;34m\u001b[0m\u001b[0;34m\u001b[0m\u001b[0m\n\u001b[1;32m     17\u001b[0m     \u001b[0mnext_grad_normal\u001b[0m \u001b[0;34m=\u001b[0m \u001b[0msignal\u001b[0m\u001b[0;34m.\u001b[0m\u001b[0mconvolve2d\u001b[0m\u001b[0;34m(\u001b[0m\u001b[0mimgs\u001b[0m\u001b[0;34m[\u001b[0m\u001b[0mi\u001b[0m\u001b[0;34m]\u001b[0m\u001b[0;34m,\u001b[0m \u001b[0mscharr\u001b[0m\u001b[0;34m,\u001b[0m \u001b[0mboundary\u001b[0m\u001b[0;34m=\u001b[0m\u001b[0;34m'symm'\u001b[0m\u001b[0;34m,\u001b[0m \u001b[0mmode\u001b[0m\u001b[0;34m=\u001b[0m\u001b[0;34m'same'\u001b[0m\u001b[0;34m)\u001b[0m\u001b[0;34m\u001b[0m\u001b[0;34m\u001b[0m\u001b[0m\n",
      "\u001b[0;31mNameError\u001b[0m: name 'asdf' is not defined"
     ]
    }
   ],
   "source": [
    "\n",
    "cap = cv2.VideoCapture(0)\n",
    "\n",
    "prev_grad_morphological = cv2.morphologyEx(imgs[0], cv2.MORPH_GRADIENT, kernel)\n",
    "scharr = np.array([[ -3-3j, 0-10j,  +3 -3j],\n",
    "                   [-10+0j, 0+ 0j, +10 +0j],\n",
    "                   [ -3+3j, 0+10j,  +3 +3j]]) # Gx + j*Gy\n",
    "prev_grad_normal = signal.convolve2d(imgs[0], scharr, boundary='symm', mode='same')\n",
    "prev_grad_morphological3d = cv2.morphologyEx(imgs[0], cv2.MORPH_GRADIENT, kernel)\n",
    "kernel = np.ones((5,5))\n",
    "hsv = np.zeros_like(imgs_color[0])\n",
    "hsv[...,1] = 255\n",
    "morphological_gradients = []\n",
    "\n",
    "for i in range(1, len(imgs)):\n",
    "    next_grad_normal = signal.convolve2d(imgs[i], scharr, boundary='symm', mode='same')\n",
    "    next_grad_morphological = cv2.morphologyEx(imgs[i], cv2.MORPH_GRADIENT, kernel)\n",
    "    \n",
    "    cv2.namedWindow('Next Grad Normal',0)\n",
    "    cv2.namedWindow('Next Grad Morphological',0)\n",
    "    cv2.namedWindow('Next Grad 3D Morphological',0)\n",
    "    cv2.namedWindow('Original',0)\n",
    "\n",
    "    cv2.resizeWindow('Original',540, 960)\n",
    "    cv2.imshow('next_grad_normal',next_grad_normal)\n",
    "    cv2.imshow('next_grad_morphological',next_grad_morphological)\n",
    "    cv2.imshow('Next Grad 3D Morphological',backgroundsuppression.gradients3d[i])\n",
    "    cv2.imshow('Original',imgs[i])\n",
    "\n",
    "    k = cv2.waitKey(1) & 0xff\n",
    "\n",
    "    flow = cv2.calcOpticalFlowFarneback(prev_grad,next_grad, None, 0.5, 3, 15, 3, 5, 1.2, 0)\n",
    "    mag, ang = cv2.cartToPolar(flow[...,0], flow[...,1])\n",
    "    hsv[...,0] = ang*180/np.pi/2\n",
    "    hsv[...,2] = cv2.normalize(mag,None,0,255,cv2.NORM_MINMAX)\n",
    "    rgb = cv2.cvtColor(hsv,cv2.COLOR_HSV2BGR)\n",
    "    rgbs.append(rgb)\n",
    "    frame = imgs_color[i]+rgb\n",
    "    #                 print(flow.shape)\n",
    "    #                 asdf\n",
    "    frame_name = \"Optical flow: directional gradient of Morphological gradient\"\n",
    "    #cv2.imshow(frame_name,frame)\n",
    "    \n",
    "    prev_fgmask = next_fgmask.copy()\n",
    "    prev_grad = next_grad.copy()\n",
    "\n",
    "    if k==ord('q'):\n",
    "        break\n",
    "\n",
    "cap.release()\n",
    "cv2.destroyAllWindows()"
   ]
  },
  {
   "cell_type": "markdown",
   "metadata": {},
   "source": [
    "# Analysis of the Result\n",
    "\n",
    "As you can see, because the camera was moving, the background aglorithm can't differeniate the background(the mountain) and the ship; therefore, I propose new background suppression method by defining 3D morpholocal Gradient"
   ]
  },
  {
   "cell_type": "markdown",
   "metadata": {},
   "source": [
    "# 3D Morhpholocal Gradient"
   ]
  },
  {
   "cell_type": "code",
   "execution_count": 518,
   "metadata": {},
   "outputs": [],
   "source": [
    "class BackgroundSuppression():\n",
    "    \"\"\"\n",
    "    Dynaimcally calculate gradient flows to simulate real video situation.\n",
    "    \"\"\"\n",
    "    def __init__(self, imgs, imgs_color, k, kernel_size):\n",
    "        if len(imgs) < k:\n",
    "            raise ValueError(\"you need at least %d number of images\"%d)\n",
    "        self.img_size = imgs[0].shape\n",
    "        self.imgs = [cv2.GaussianBlur(imgs[i],(5,5),cv2.BORDER_DEFAULT) for i in range(len(imgs))]\n",
    "        self.imgs_color = imgs_color\n",
    "        self.k = k\n",
    "        self.kernel = np.ones((kernel_size,kernel_size),np.uint8)\n",
    "        \n",
    "        self.dilations = np.array([cv2.dilate(self.imgs[i], self.kernel,iterations=1) for i in range(k)])\n",
    "        self.erosions = np.array([cv2.erode(self.imgs[i], self.kernel,iterations=1) for i in range(k)])\n",
    "        \n",
    "        self.gradients = self.dilations - self.erosions\n",
    "        self.gradients3d = [self.calculate3dGradientVectorize(i, 0, stability=False, init=True) for i in range(0,k)]            \n",
    "            \n",
    "    def update(self, img):\n",
    "        blur_img = cv2.GaussianBlur(img,(5,5),cv2.BORDER_DEFAULT)\n",
    "        dilation, erosion = np.expand_dims(cv2.dilate(blur_img, self.kernel,iterations=1), axis=0),\\\n",
    "                            np.expand_dims(cv2.erode(blur_img, self.kernel,iterations=1), axis=0)\n",
    "        gradient = dilation - erosion\n",
    "        self.dilations = np.roll(self.dilations,-1,axis=0)\n",
    "        self.erosions = np.roll(self.erosions,-1,axis=0)\n",
    "        self.gradients = np.roll(self.gradients,-1,axis=0)\n",
    "        \n",
    "        self.dilations[-1], self.erosions[-1], self.gradients[-1] = dilation, erosion, gradient\n",
    "\n",
    "    \n",
    "    def calculate3dGradientVectorize(self, inx, weights=1, stability=True, init=False):\n",
    "        \"\"\"\n",
    "        Calculate gradient in the time interval t. if weights is not zero, we don't have any speical attention to current scene\n",
    "        it is for stability option of background.\n",
    "        \"\"\"\n",
    "        if init:\n",
    "            dilation3d = np.max(self.dilations[0:inx+1], axis=0)\n",
    "            erosion3d = np.min(self.erosions[0:inx+1], axis=0)\n",
    "            #get gradient standard deviation if it is first frame, diff is 1\n",
    "            if inx == 0:\n",
    "                diff = np.ones_like(self.gradients[0])\n",
    "            else:\n",
    "                diff = np.std(self.gradients[0:inx+1], axis=0)\n",
    "        else:\n",
    "            dilation3d = np.max(self.dilations[-self.k:], axis=0)\n",
    "            erosion3d = np.min(self.erosions[-self.k:], axis=0)\n",
    "            #get gradient standard deviation\n",
    "            diff = np.std(self.gradients[-self.k:].copy(), axis=0)\n",
    "\n",
    "        \n",
    "        if stability:\n",
    "            prev_gradients = self.gradients3d[-(k+1):]\n",
    "            current_grad3d = dilation3d - erosion3d\n",
    "            #if weights are not zero, we have more attention/less attention to current grad\n",
    "            if weight != 0:\n",
    "                current_grad3d += weight*current_grad3d\n",
    "            #get mean of gradient in k time interval\n",
    "            grad3d = np.mean(prev_gradients.extend(current_grad3d), axis=0)\n",
    "        else:\n",
    "            grad3d = dilation3d - erosion3d\n",
    "        \n",
    "        #normalize gradient\n",
    "        grad3d = grad3d/grad3d.max()\n",
    "        grad3d[grad3d<np.mean(grad3d)] = 0\n",
    "        grad3d[grad3d>np.mean(grad3d)] = 1\n",
    "\n",
    "        #for normalize std, we divide by max of diff\n",
    "        grad3d = grad3d * diff / np.max(diff)\n",
    "        return grad3d\n",
    "    \n",
    "    def showImages(self, option):\n",
    "        \"\"\"\n",
    "        params\n",
    "        options (int):\n",
    "            1. 3d grad\n",
    "            2. image flow with 3dgrad\n",
    "        \"\"\"\n",
    "        rgbs = []\n",
    "        prvs = self.gradients3d[0]\n",
    "        if option == 1:\n",
    "            hsv = np.zeros_like(imgs[0])\n",
    "        else:\n",
    "            hsv = np.zeros_like(imgs_color[0])\n",
    "        hsv[...,1] = 255\n",
    "\n",
    "        alpha = 6\n",
    "        \n",
    "        print(len(self.imgs))\n",
    "        for i in range(self.k, len(self.imgs)):            \n",
    "            self.update(imgs[i])\n",
    "            self.gradients3d.append(self.calculate3dGradientVectorize(i, stability=False))\n",
    "            \n",
    "            if option == 1:\n",
    "                #the reason we thresh holding value with the gradient mean times alpha is \n",
    "                # there are a lot more background and the mean is skewed; there should be non-hard coding way to find using std\n",
    "                frame = ((self.gradients3d[i])*255).astype(np.uint8)\n",
    "                frame_name = \"3d grad\"\n",
    "            elif option == 2:\n",
    "                #calculate optimal flow between two gradients with Lucas–Kanade method\n",
    "                # https://en.wikipedia.org/wiki/Lucas%E2%80%93Kanade_method\n",
    "\n",
    "                flow = cv2.calcOpticalFlowFarneback(self.gradients3d[i-1],self.gradients3d[i], None, 0.5, 3, 15, 3, 5, 1.2, 0)\n",
    "                mag, ang = cv2.cartToPolar(flow[...,0], flow[...,1])\n",
    "                hsv[...,0] = ang*180/np.pi/2\n",
    "                hsv[...,2] = cv2.normalize(mag,None,0,255,cv2.NORM_MINMAX)\n",
    "                rgb = cv2.cvtColor(hsv,cv2.COLOR_HSV2BGR)\n",
    "                rgbs.append(rgb)\n",
    "                frame = imgs_color[i]+rgb\n",
    "#                 print(flow.shape)\n",
    "#                 asdf\n",
    "                frame_name = \"Optical flow: directional gradient of 3d Morphological gradient\"\n",
    "#                 print((np.sum(rgb,axis=-1)/3).shape)\n",
    "#                 cv2.imshow(frame_name,rgb)\n",
    "#                 cv2.imshow(frame_name,np.sum(rgb,axis=-1)/3)\n",
    "            frames.append(frame)\n",
    "            cv2.imshow(frame_name,frame)\n",
    "            \n",
    "            if cv2.waitKey(1) & 0xFF == ord('q'):\n",
    "                break\n",
    "        # Release everything if job is finished\n",
    "        cap.release()\n",
    "        cv2.destroyAllWindows()\n",
    "        print(\"here\")\n",
    "        return rgbs"
   ]
  },
  {
   "cell_type": "code",
   "execution_count": 527,
   "metadata": {},
   "outputs": [],
   "source": [
    "frames = []\n",
    "backgroundsuppression = BackgroundSuppression(imgs, imgs_color, 15, 7)"
   ]
  },
  {
   "cell_type": "code",
   "execution_count": 461,
   "metadata": {},
   "outputs": [
    {
     "name": "stdout",
     "output_type": "stream",
     "text": [
      "249\n"
     ]
    },
    {
     "ename": "NameError",
     "evalue": "name 'asdf' is not defined",
     "output_type": "error",
     "traceback": [
      "\u001b[0;31m---------------------------------------------------------------------------\u001b[0m",
      "\u001b[0;31mNameError\u001b[0m                                 Traceback (most recent call last)",
      "\u001b[0;32m<ipython-input-461-b9c40cf25e55>\u001b[0m in \u001b[0;36m<module>\u001b[0;34m\u001b[0m\n\u001b[0;32m----> 1\u001b[0;31m \u001b[0mbackgroundsuppression\u001b[0m\u001b[0;34m.\u001b[0m\u001b[0mshowImages\u001b[0m\u001b[0;34m(\u001b[0m\u001b[0;36m1\u001b[0m\u001b[0;34m)\u001b[0m\u001b[0;34m\u001b[0m\u001b[0;34m\u001b[0m\u001b[0m\n\u001b[0m",
      "\u001b[0;32m<ipython-input-459-bbadce2d65ef>\u001b[0m in \u001b[0;36mshowImages\u001b[0;34m(self, option)\u001b[0m\n\u001b[1;32m     91\u001b[0m             \u001b[0mself\u001b[0m\u001b[0;34m.\u001b[0m\u001b[0mupdate\u001b[0m\u001b[0;34m(\u001b[0m\u001b[0mimgs\u001b[0m\u001b[0;34m[\u001b[0m\u001b[0mi\u001b[0m\u001b[0;34m]\u001b[0m\u001b[0;34m)\u001b[0m\u001b[0;34m\u001b[0m\u001b[0;34m\u001b[0m\u001b[0m\n\u001b[1;32m     92\u001b[0m             \u001b[0mself\u001b[0m\u001b[0;34m.\u001b[0m\u001b[0mgradients3d\u001b[0m\u001b[0;34m.\u001b[0m\u001b[0mappend\u001b[0m\u001b[0;34m(\u001b[0m\u001b[0mself\u001b[0m\u001b[0;34m.\u001b[0m\u001b[0mcalculate3dGradientVectorize\u001b[0m\u001b[0;34m(\u001b[0m\u001b[0mi\u001b[0m\u001b[0;34m,\u001b[0m \u001b[0mstability\u001b[0m\u001b[0;34m=\u001b[0m\u001b[0;32mFalse\u001b[0m\u001b[0;34m)\u001b[0m\u001b[0;34m)\u001b[0m\u001b[0;34m\u001b[0m\u001b[0;34m\u001b[0m\u001b[0m\n\u001b[0;32m---> 93\u001b[0;31m             \u001b[0masdf\u001b[0m\u001b[0;34m\u001b[0m\u001b[0;34m\u001b[0m\u001b[0m\n\u001b[0m\u001b[1;32m     94\u001b[0m             \u001b[0;32mif\u001b[0m \u001b[0moption\u001b[0m \u001b[0;34m==\u001b[0m \u001b[0;36m1\u001b[0m\u001b[0;34m:\u001b[0m\u001b[0;34m\u001b[0m\u001b[0;34m\u001b[0m\u001b[0m\n\u001b[1;32m     95\u001b[0m                 \u001b[0;31m#the reason we thresh holding value with the gradient mean times alpha is\u001b[0m\u001b[0;34m\u001b[0m\u001b[0;34m\u001b[0m\u001b[0;34m\u001b[0m\u001b[0m\n",
      "\u001b[0;31mNameError\u001b[0m: name 'asdf' is not defined"
     ]
    }
   ],
   "source": [
    "backgroundsuppression.showImages(1)"
   ]
  },
  {
   "cell_type": "markdown",
   "metadata": {},
   "source": []
  },
  {
   "cell_type": "markdown",
   "metadata": {},
   "source": []
  },
  {
   "cell_type": "code",
   "execution_count": 528,
   "metadata": {},
   "outputs": [
    {
     "name": "stdout",
     "output_type": "stream",
     "text": [
      "249\n",
      "here\n"
     ]
    }
   ],
   "source": [
    "rgbs = backgroundsuppression.showImages(2)"
   ]
  },
  {
   "cell_type": "markdown",
   "metadata": {},
   "source": [
    "# How do I interperate backgroundsuppression.showImages(2)?\n",
    "\n",
    "Meaning of flow Markers\n",
    "<ul>\n",
    "    <li>The intensity of color: the velocity of pixel</li>\n",
    "    <li>The kind of color: the direction of pixel</li>\n",
    "</ul>"
   ]
  },
  {
   "cell_type": "markdown",
   "metadata": {},
   "source": [
    "# Reference\n",
    "<ul>\n",
    "        <li>Gandhi, T. L. (1999). Image sequence analysis for object detection and segmentation.</li>\n",
    "    <li>Pardàs, M., & Salembier, P. (1994). 3D morphological segmentation and motion estimation for image sequences. Signal processing, 38(1), 31-43.</li>\n",
    "    <li>Stauffer, C., & Grimson, W. E. L. (2000). Learning patterns of activity using real-time tracking. IEEE Transactions on pattern analysis and machine intelligence, 22(8), 747-757.</li>\n",
    "    <li>Mukherjee, D., Wu, Q. J., & Nguyen, T. M. (2013). Gaussian mixture model with advanced distance measure based on support weights and histogram of gradients for background suppression. IEEE Transactions on Industrial Informatics, 10(2), 1086-1096.</li>\n",
    "</ul>\n"
   ]
  },
  {
   "cell_type": "code",
   "execution_count": 300,
   "metadata": {},
   "outputs": [
    {
     "data": {
      "text/plain": [
       "<matplotlib.image.AxesImage at 0x7fa2c2909b70>"
      ]
     },
     "execution_count": 300,
     "metadata": {},
     "output_type": "execute_result"
    },
    {
     "data": {
      "image/png": "[encoded data removed]",
      "text/plain": [
       "<Figure size 432x288 with 1 Axes>"
      ]
     },
     "metadata": {
      "needs_background": "light"
     },
     "output_type": "display_data"
    }
   ],
   "source": [
    "plt.imshow(rgbs[101])"
   ]
  },
  {
   "cell_type": "code",
   "execution_count": 529,
   "metadata": {},
   "outputs": [
    {
     "ename": "error",
     "evalue": "OpenCV(4.2.0) /io/opencv/modules/highgui/src/window.cpp:376: error: (-215:Assertion failed) size.width>0 && size.height>0 in function 'imshow'\n",
     "output_type": "error",
     "traceback": [
      "\u001b[0;31m---------------------------------------------------------------------------\u001b[0m",
      "\u001b[0;31merror\u001b[0m                                     Traceback (most recent call last)",
      "\u001b[0;32m<ipython-input-529-8bc09e5363f9>\u001b[0m in \u001b[0;36m<module>\u001b[0;34m\u001b[0m\n\u001b[1;32m     11\u001b[0m     \u001b[0;31m#frame = ((reason[i]>0)*255).astype('uint8')#cv2.cvtColor(reason[i], cv2.COLOR_GRAY2RGB)\u001b[0m\u001b[0;34m\u001b[0m\u001b[0;34m\u001b[0m\u001b[0;34m\u001b[0m\u001b[0m\n\u001b[1;32m     12\u001b[0m     \u001b[0mwriter\u001b[0m\u001b[0;34m.\u001b[0m\u001b[0mwrite\u001b[0m\u001b[0;34m(\u001b[0m\u001b[0mframe\u001b[0m\u001b[0;34m)\u001b[0m\u001b[0;34m\u001b[0m\u001b[0;34m\u001b[0m\u001b[0m\n\u001b[0;32m---> 13\u001b[0;31m     \u001b[0mcv2\u001b[0m\u001b[0;34m.\u001b[0m\u001b[0mimshow\u001b[0m\u001b[0;34m(\u001b[0m\u001b[0;34m'check'\u001b[0m\u001b[0;34m,\u001b[0m\u001b[0mframe\u001b[0m\u001b[0;34m)\u001b[0m\u001b[0;34m\u001b[0m\u001b[0;34m\u001b[0m\u001b[0m\n\u001b[0m\u001b[1;32m     14\u001b[0m     \u001b[0;32mif\u001b[0m \u001b[0mcv2\u001b[0m\u001b[0;34m.\u001b[0m\u001b[0mwaitKey\u001b[0m\u001b[0;34m(\u001b[0m\u001b[0;36m1\u001b[0m\u001b[0;34m)\u001b[0m \u001b[0;34m&\u001b[0m \u001b[0;36m0xFF\u001b[0m \u001b[0;34m==\u001b[0m \u001b[0mord\u001b[0m\u001b[0;34m(\u001b[0m\u001b[0;34m'q'\u001b[0m\u001b[0;34m)\u001b[0m\u001b[0;34m:\u001b[0m\u001b[0;34m\u001b[0m\u001b[0;34m\u001b[0m\u001b[0m\n\u001b[1;32m     15\u001b[0m         \u001b[0;32mbreak\u001b[0m\u001b[0;34m\u001b[0m\u001b[0;34m\u001b[0m\u001b[0m\n",
      "\u001b[0;31merror\u001b[0m: OpenCV(4.2.0) /io/opencv/modules/highgui/src/window.cpp:376: error: (-215:Assertion failed) size.width>0 && size.height>0 in function 'imshow'\n"
     ]
    }
   ],
   "source": [
    "##################################\n",
    "# put \n",
    "##################################\n",
    "reason = frames\n",
    "m,n, _ = reason[0].shape\n",
    "\n",
    "writer = cv2.VideoWriter(\"flaw_with_image_15.avi\",\n",
    "cv2.VideoWriter_fourcc(*\"MJPG\"), 15,(n,m))\n",
    "for i in range(len(reason)):\n",
    "    ret, frame = cap.read()\n",
    "    #frame = ((reason[i]>0)*255).astype('uint8')#cv2.cvtColor(reason[i], cv2.COLOR_GRAY2RGB)\n",
    "    writer.write(reason[i])\n",
    "    cv2.imshow('check',reason[i])\n",
    "    if cv2.waitKey(1) & 0xFF == ord('q'):\n",
    "        break\n",
    "    print(i)\n",
    "writer.release()"
   ]
  },
  {
   "cell_type": "code",
   "execution_count": null,
   "metadata": {},
   "outputs": [],
   "source": []
  },
  {
   "cell_type": "code",
   "execution_count": null,
   "metadata": {},
   "outputs": [],
   "source": []
  }
 ],
 "metadata": {
  "kernelspec": {
   "display_name": "Python 3",
   "language": "python",
   "name": "python3"
  },
  "language_info": {
   "codemirror_mode": {
    "name": "ipython",
    "version": 3
   },
   "file_extension": ".py",
   "mimetype": "text/x-python",
   "name": "python",
   "nbconvert_exporter": "python",
   "pygments_lexer": "ipython3",
   "version": "3.6.8"
  }
 },
 "nbformat": 4,
 "nbformat_minor": 4
}
